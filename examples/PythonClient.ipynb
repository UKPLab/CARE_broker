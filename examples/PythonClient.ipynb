{
 "cells": [
  {
   "cell_type": "markdown",
   "id": "a6394ccc4480e8a8",
   "metadata": {
    "collapsed": false
   },
   "source": [
    "# Basic client for testing broker skills\n",
    "\n",
    "This notebook should help you to test your broker skills. It is not a complete test suite, but it should help you to test the basic functionality of your skill. It provides basic code to connect to the broker and to send and receive messages. It also provides a basic example for the authentication process.\n",
    "\n",
    "# Client\n",
    "\n",
    "The client starts a new thread for the connection to the broker. All messages are therefore sent to the new process and not to the main process, therefore you have to make sure that the queue is regularly emptied, otherwise you lose messages!\n",
    "Use client.clear() to empty the queue, all messages in the queue will be processed by the client.\n",
    "__Tip:__ You can set the queue size during initialization of the client with: Client(url, queue_size=200)\n",
    "\n",
    "# Authentication\n",
    "\n",
    "The authentication is based on RSA keys. The broker will send you a challenge, which you have to sign with your private key. The broker will then verify your signature with your public key. If the verification is successful, you will be authenticated. To provide your public key to the broker, you have to send it as a hex string in the `publicKey` field of the `authentication` message. \n",
    "\n",
    "\n",
    "__Note:__ The client is only implemented on a special branch, therefore make sure you install the latest package in the first cell! "
   ]
  },
  {
   "cell_type": "code",
   "execution_count": null,
   "id": "08821839-9990-416d-8ac9-d6a04b44ddac",
   "metadata": {
    "collapsed": false
   },
   "outputs": [],
   "source": [
    "# Install specific branch of broker with access token from Gitlab\n",
    "!pip uninstall -y nlp-broker\n",
    "!pip install git+https://github.com/UKPLab/CARE_broker.git\n"
   ]
  },
  {
   "cell_type": "code",
   "execution_count": null,
   "id": "fab45e18-c376-4ba8-91a4-ac1f7beeebc1",
   "metadata": {},
   "outputs": [],
   "source": [
    "# import necessary packages\n",
    "from Crypto.PublicKey import RSA\n",
    "from broker.client import Client, ClientTimeoutException\n",
    "import os"
   ]
  },
  {
   "cell_type": "code",
   "execution_count": null,
   "id": "df6a11a8d4e4db55",
   "metadata": {
    "collapsed": false
   },
   "outputs": [],
   "source": [
    "# Generate key pair (needed for authentication)\n",
    "\n",
    "key_file = \"private_key.pem\"\n",
    "key_length = 1024\n",
    "\n",
    "if not os.path.exists(key_file):\n",
    "    key = RSA.generate(key_length)\n",
    "    with open(key_file, \"wb\") as f:\n",
    "        f.write(key.export_key(\"PEM\"))\n",
    "else:\n",
    "    with open(key_file, \"rb\") as f:\n",
    "        key = RSA.import_key(f.read())\n",
    "\n",
    "# print out public key as hex string\n",
    "print(\"Your public key for authentication: \")\n",
    "print(key.publickey().export_key(\"PEM\").hex())\n"
   ]
  },
  {
   "cell_type": "code",
   "execution_count": null,
   "id": "ffb54adb-8b63-49b1-9b99-b07939c8c8dc",
   "metadata": {},
   "outputs": [],
   "source": [
    "# set url of broker\n",
    "url = \"http://127.0.0.1:4852\"\n",
    "\n",
    "# initialize client\n",
    "client = Client(url)\n",
    "\n",
    "# start client (starts new thread and connect to the broker)\n",
    "client.start()\n",
    "\n",
    "# authenticate with broker\n",
    "if client.auth(key_file):\n",
    "    print(\"Authentication successful!\")\n",
    "    print(\"Your role: {}\".format(client.role))\n",
    "else:\n",
    "    print(\"Authentication failed!\")"
   ]
  },
  {
   "cell_type": "code",
   "execution_count": null,
   "id": "50d696d1-2a20-4fdf-a557-fa46c88faaf2",
   "metadata": {},
   "outputs": [],
   "source": [
    "# Let's clear the queue and look what skills are available\n",
    "client.clear()\n",
    "print(\"Skills: {}\".format(client.skills))"
   ]
  },
  {
   "cell_type": "code",
   "execution_count": null,
   "outputs": [],
   "source": [
    "# Get config \n",
    "client.put({\n",
    "    \"event\": \"skillGetConfig\",\n",
    "    \"data\": {\n",
    "        \"name\": \"test\"\n",
    "    }\n",
    "})\n",
    "results = client.wait_for_event(\"skillConfig\", timeout=10)\n",
    "if results:\n",
    "    print(results['data'])\n",
    "else:\n",
    "    print(\"Timeout!\")"
   ],
   "metadata": {
    "collapsed": false
   },
   "id": "99aa805d4bb0cb1f"
  },
  {
   "cell_type": "code",
   "execution_count": null,
   "id": "91d03da1-5489-4ba4-b599-833754f58007",
   "metadata": {},
   "outputs": [],
   "source": [
    "# Let's define the message we want to send to the broker\n",
    "skill = \"test\"\n",
    "event = 'skillRequest'\n",
    "message_id = \"test\"\n",
    "config = {\n",
    "    \"return_stats\": True\n",
    "}\n",
    "data = {\"text\": \"This is a test.\"}\n",
    "timeout = 10"
   ]
  },
  {
   "cell_type": "code",
   "execution_count": null,
   "outputs": [],
   "source": [
    "# We can either send the message directly to the broker\n",
    "client.put({\n",
    "    \"event\": event,\n",
    "    \"data\": {\n",
    "        'id': message_id,\n",
    "        'name': skill,\n",
    "        'config': config,\n",
    "        'data': data\n",
    "    }\n",
    "})\n",
    "results = client.wait_for_event(\"skillResults\", timeout=timeout)\n",
    "if results:\n",
    "    print(results['data'])\n",
    "else:\n",
    "    print(\"Timeout!\")\n",
    "# Note that we need to define the event and the data field of the message"
   ],
   "metadata": {
    "collapsed": false
   },
   "id": "8085e5d2a1ef1fee"
  },
  {
   "cell_type": "code",
   "execution_count": null,
   "outputs": [],
   "source": [
    "# or we can use the request method of the client\n",
    "try:\n",
    "    result = client.request(skill, data, message_id, config=config, timeout=timeout)\n",
    "    print(result)\n",
    "except ClientTimeoutException as e:\n",
    "    print(e)"
   ],
   "metadata": {
    "collapsed": false
   },
   "id": "e462227da73ad61c"
  },
  {
   "cell_type": "code",
   "execution_count": null,
   "outputs": [],
   "source": [
    "# There is also a results buffer in the client, which stores the last x results\n",
    "print(client.results_buffer)"
   ],
   "metadata": {
    "collapsed": false
   },
   "id": "3cbc29378e4bae83"
  },
  {
   "cell_type": "code",
   "execution_count": null,
   "outputs": [],
   "source": [
    "# Make sure the process is killed at the end\n",
    "client.stop()"
   ],
   "metadata": {
    "collapsed": false
   },
   "id": "444984ec3e665c6a"
  }
 ],
 "metadata": {
  "kernelspec": {
   "display_name": "Python 3 (ipykernel)",
   "language": "python",
   "name": "python3"
  },
  "language_info": {
   "codemirror_mode": {
    "name": "ipython",
    "version": 3
   },
   "file_extension": ".py",
   "mimetype": "text/x-python",
   "name": "python",
   "nbconvert_exporter": "python",
   "pygments_lexer": "ipython3",
   "version": "3.10.13"
  }
 },
 "nbformat": 4,
 "nbformat_minor": 5
}
