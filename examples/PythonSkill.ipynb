{
 "cells": [
  {
   "cell_type": "markdown",
   "source": [
    "# Basic skill template for broker\n",
    "\n",
    "This will provide a basic showcase skill for the broker to handle requests from clients. It will return a random number between 0 and 10."
   ],
   "metadata": {
    "collapsed": false
   },
   "id": "90f78094227ff31"
  },
  {
   "cell_type": "code",
   "execution_count": null,
   "outputs": [],
   "source": [
    "import socketio\n",
    "import time\n",
    "import random\n",
    "import multiprocessing as mp\n",
    "import logging"
   ],
   "metadata": {
    "collapsed": false
   },
   "id": "fb1bd4a8ae009d0f"
  },
  {
   "cell_type": "code",
   "execution_count": null,
   "outputs": [],
   "source": [
    "# Definition of the skill and url to the broker\n",
    "url = \"http://127.0.0.1:4852\"\n",
    "\n",
    "skill_definition = {\n",
    "    \"name\": \"test_skill\",\n",
    "    \"description\": \"This is a test skill\",\n",
    "    \"version\": \"0.0.1\",\n",
    "    \"author\": \"test_author\",\n",
    "    \"input\": {\n",
    "        \"data\": {\n",
    "            \"text\": {\n",
    "                \"type\": \"string\",\n",
    "                \"description\": \"This text will be ignored\"\n",
    "            }\n",
    "        },\n",
    "        \"example\": {\n",
    "            \"text\": \"This is a test text\"\n",
    "        }\n",
    "    },\n",
    "    \"output\": {\n",
    "        \"data\": {\n",
    "            \"type\": \"integer\",\n",
    "            \"description\": \"Random number between 0 and 10\"\n",
    "        },\n",
    "        \"example\": 1\n",
    "    },\n",
    "}"
   ],
   "metadata": {
    "collapsed": false
   },
   "id": "bf14e71dda5f3c29"
  },
  {
   "cell_type": "code",
   "execution_count": null,
   "outputs": [],
   "source": [
    "# define skill client\n",
    "def skill_client(broker_url, skill):\n",
    "    sio = socketio.Client()\n",
    "    \n",
    "    @sio.on(\"taskRequest\")\n",
    "    def task(data):\n",
    "        # the most important part of the skill - the actual task\n",
    "        sio.emit('taskResults', {'id': data['id'], 'data': random.randint(0, 10)})\n",
    "    \n",
    "    @sio.on('connect')\n",
    "    def on_connect():\n",
    "        # register the skill when connected\n",
    "        sio.emit('skillRegister', skill)\n",
    "        \n",
    "    # try to connect forever\n",
    "    while True:\n",
    "        try:\n",
    "            logging.info(\"Connect to broker {}\".format(broker_url))\n",
    "            sio.connect(url)\n",
    "            sio.wait()\n",
    "        except:\n",
    "            time.sleep(5)\n"
   ],
   "metadata": {
    "collapsed": false
   },
   "id": "42e8757c340966f5"
  },
  {
   "cell_type": "code",
   "execution_count": null,
   "outputs": [],
   "source": [
    "# Start skill client\n",
    "ctx = mp.get_context('fork')\n",
    "client = ctx.Process(target=skill_client, args=(url, skill_definition))\n",
    "client.start()\n",
    "print(\"Skill client started\")"
   ],
   "metadata": {
    "collapsed": false
   },
   "id": "cac9a320c0cb425a"
  },
  {
   "cell_type": "code",
   "execution_count": null,
   "outputs": [],
   "source": [
    "# to stop the skill client use the following\n",
    "client.terminate()\n",
    "client.join()\n",
    "print(\"Skill client terminated\")"
   ],
   "metadata": {
    "collapsed": false
   },
   "id": "bceee654b4b56756"
  }
 ],
 "metadata": {
  "kernelspec": {
   "display_name": "Python 3",
   "language": "python",
   "name": "python3"
  },
  "language_info": {
   "codemirror_mode": {
    "name": "ipython",
    "version": 2
   },
   "file_extension": ".py",
   "mimetype": "text/x-python",
   "name": "python",
   "nbconvert_exporter": "python",
   "pygments_lexer": "ipython2",
   "version": "2.7.6"
  }
 },
 "nbformat": 4,
 "nbformat_minor": 5
}
